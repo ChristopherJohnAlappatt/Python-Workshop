{
  "nbformat": 4,
  "nbformat_minor": 0,
  "metadata": {
    "colab": {
      "name": "VAC24822_Numbers_Strings.ipynb",
      "provenance": []
    },
    "kernelspec": {
      "name": "python3",
      "display_name": "Python 3"
    },
    "language_info": {
      "name": "python"
    }
  },
  "cells": [
    {
      "cell_type": "markdown",
      "source": [
        "# Numbers"
      ],
      "metadata": {
        "id": "sd2b_dPn3cJN"
      }
    },
    {
      "cell_type": "code",
      "execution_count": 2,
      "metadata": {
        "colab": {
          "base_uri": "https://localhost:8080/"
        },
        "id": "v2_zHzoL3MhU",
        "outputId": "073bf753-ca68-4ea4-988f-29363688a8ff"
      },
      "outputs": [
        {
          "output_type": "stream",
          "name": "stdout",
          "text": [
            "x :  5  :: Type of x :  <class 'int'>\n",
            "y :  7  :: Type of y :  <class 'int'>\n"
          ]
        }
      ],
      "source": [
        "#int\n",
        "x = 5\n",
        "y = int(7)\n",
        "print(\"x : \",x,\" :: Type of x : \",type(x))\n",
        "print(\"y : \",y,\" :: Type of y : \",type(y))"
      ]
    },
    {
      "cell_type": "code",
      "source": [
        "x = 13.6\n",
        "y = float(37.9)\n",
        "print(\"x : \",x,\" :: Type of x : \",type(x))\n",
        "print(\"y : \",y,\" :: Type of y : \",type(y))"
      ],
      "metadata": {
        "colab": {
          "base_uri": "https://localhost:8080/"
        },
        "id": "_0hJd9-65P1O",
        "outputId": "01420dad-d9a7-4723-e2d4-64be1512cc66"
      },
      "execution_count": 5,
      "outputs": [
        {
          "output_type": "stream",
          "name": "stdout",
          "text": [
            "x :  13.6  :: Type of x :  <class 'float'>\n",
            "y :  37.9  :: Type of y :  <class 'float'>\n"
          ]
        }
      ]
    },
    {
      "cell_type": "code",
      "source": [
        "x = 9j-5\n",
        "y = complex(-134,753)\n",
        "print(\"x : \",x,\" :: Type of x : \",type(x))\n",
        "print(\"y : \",y,\" :: Type of y : \",type(y))"
      ],
      "metadata": {
        "colab": {
          "base_uri": "https://localhost:8080/"
        },
        "id": "Z5_08MiC6OkL",
        "outputId": "9977c6a1-3625-4d50-a006-24918daf2c73"
      },
      "execution_count": 12,
      "outputs": [
        {
          "output_type": "stream",
          "name": "stdout",
          "text": [
            "x :  (-5+9j)  :: Type of x :  <class 'complex'>\n",
            "y :  (-134+753j)  :: Type of y :  <class 'complex'>\n"
          ]
        }
      ]
    },
    {
      "cell_type": "markdown",
      "source": [
        "### Operators"
      ],
      "metadata": {
        "id": "r8cwdHSCTKKX"
      }
    },
    {
      "cell_type": "code",
      "source": [
        "x = 3\n",
        "y = 8\n",
        "z = x + y\n",
        "print(\"x : \",x,\" :: Type of x : \",type(x))\n",
        "print(\"y : \",y,\" :: Type of y : \",type(y))\n",
        "print(\"z : \",z,\" :: Type of z : \",type(z))"
      ],
      "metadata": {
        "colab": {
          "base_uri": "https://localhost:8080/"
        },
        "id": "wjQvKs7zMxW_",
        "outputId": "02db66e9-6372-42ce-a422-26922098654c"
      },
      "execution_count": 1,
      "outputs": [
        {
          "output_type": "stream",
          "name": "stdout",
          "text": [
            "x :  3  :: Type of x :  <class 'int'>\n",
            "y :  8  :: Type of y :  <class 'int'>\n",
            "z :  11  :: Type of z :  <class 'int'>\n"
          ]
        }
      ]
    },
    {
      "cell_type": "code",
      "source": [
        "x = 3\n",
        "y = 8\n",
        "z = x - y\n",
        "print(\"x : \",x,\" :: Type of x : \",type(x))\n",
        "print(\"y : \",y,\" :: Type of y : \",type(y))\n",
        "print(\"z : \",z,\" :: Type of z : \",type(z))"
      ],
      "metadata": {
        "colab": {
          "base_uri": "https://localhost:8080/"
        },
        "id": "DoafOe9CNMdn",
        "outputId": "9d9f650f-ffcc-4be8-fa35-4ebf36ec80af"
      },
      "execution_count": 2,
      "outputs": [
        {
          "output_type": "stream",
          "name": "stdout",
          "text": [
            "x :  3  :: Type of x :  <class 'int'>\n",
            "y :  8  :: Type of y :  <class 'int'>\n",
            "z :  -5  :: Type of z :  <class 'int'>\n"
          ]
        }
      ]
    },
    {
      "cell_type": "code",
      "source": [
        "x = 3\n",
        "y = 8\n",
        "z = x * y\n",
        "print(\"x : \",x,\" :: Type of x : \",type(x))\n",
        "print(\"y : \",y,\" :: Type of y : \",type(y))\n",
        "print(\"z : \",z,\" :: Type of z : \",type(z))"
      ],
      "metadata": {
        "colab": {
          "base_uri": "https://localhost:8080/"
        },
        "id": "cqe62qJcNPML",
        "outputId": "27a435ae-ff5e-4a4b-e587-644439b8d2c1"
      },
      "execution_count": 3,
      "outputs": [
        {
          "output_type": "stream",
          "name": "stdout",
          "text": [
            "x :  3  :: Type of x :  <class 'int'>\n",
            "y :  8  :: Type of y :  <class 'int'>\n",
            "z :  24  :: Type of z :  <class 'int'>\n"
          ]
        }
      ]
    },
    {
      "cell_type": "code",
      "source": [
        "x = 3\n",
        "y = 8\n",
        "z = x / y\n",
        "print(\"x : \",x,\" :: Type of x : \",type(x))\n",
        "print(\"y : \",y,\" :: Type of y : \",type(y))\n",
        "print(\"z : \",z,\" :: Type of z : \",type(z))"
      ],
      "metadata": {
        "colab": {
          "base_uri": "https://localhost:8080/"
        },
        "id": "ZuhMRoBrNSjg",
        "outputId": "05d5c245-a485-43bb-ecb7-745036415b96"
      },
      "execution_count": 4,
      "outputs": [
        {
          "output_type": "stream",
          "name": "stdout",
          "text": [
            "x :  3  :: Type of x :  <class 'int'>\n",
            "y :  8  :: Type of y :  <class 'int'>\n",
            "z :  0.375  :: Type of z :  <class 'float'>\n"
          ]
        }
      ]
    },
    {
      "cell_type": "code",
      "source": [
        "x = 13\n",
        "y = 10\n",
        "z = x % y\n",
        "print(\"x : \",x,\" :: Type of x : \",type(x))\n",
        "print(\"y : \",y,\" :: Type of y : \",type(y))\n",
        "print(\"z : \",z,\" :: Type of z : \",type(z))"
      ],
      "metadata": {
        "colab": {
          "base_uri": "https://localhost:8080/"
        },
        "id": "2w3gzZyaNYjs",
        "outputId": "a6460b9c-1209-433d-d601-7979af8c3c3c"
      },
      "execution_count": 5,
      "outputs": [
        {
          "output_type": "stream",
          "name": "stdout",
          "text": [
            "x :  13  :: Type of x :  <class 'int'>\n",
            "y :  10  :: Type of y :  <class 'int'>\n",
            "z :  3  :: Type of z :  <class 'int'>\n"
          ]
        }
      ]
    },
    {
      "cell_type": "code",
      "source": [
        "x = 2\n",
        "y = 10\n",
        "z = x ** y\n",
        "print(\"x : \",x,\" :: Type of x : \",type(x))\n",
        "print(\"y : \",y,\" :: Type of y : \",type(y))\n",
        "print(\"z : \",z,\" :: Type of z : \",type(z))"
      ],
      "metadata": {
        "colab": {
          "base_uri": "https://localhost:8080/"
        },
        "id": "3bC968y2NlK7",
        "outputId": "dc28f48c-8563-4e86-8239-628638001004"
      },
      "execution_count": 6,
      "outputs": [
        {
          "output_type": "stream",
          "name": "stdout",
          "text": [
            "x :  2  :: Type of x :  <class 'int'>\n",
            "y :  10  :: Type of y :  <class 'int'>\n",
            "z :  1024  :: Type of z :  <class 'int'>\n"
          ]
        }
      ]
    },
    {
      "cell_type": "code",
      "source": [
        "x = 17.5\n",
        "y = 8\n",
        "z = x - y\n",
        "print(\"x : \",x,\" :: Type of x : \",type(x))\n",
        "print(\"y : \",y,\" :: Type of y : \",type(y))\n",
        "print(\"z : \",z,\" :: Type of z : \",type(z))"
      ],
      "metadata": {
        "colab": {
          "base_uri": "https://localhost:8080/"
        },
        "id": "9fzoESCeNr_0",
        "outputId": "f11df0a0-4cf4-4803-9af0-48cc1156a4fd"
      },
      "execution_count": 7,
      "outputs": [
        {
          "output_type": "stream",
          "name": "stdout",
          "text": [
            "x :  17.5  :: Type of x :  <class 'float'>\n",
            "y :  8  :: Type of y :  <class 'int'>\n",
            "z :  9.5  :: Type of z :  <class 'float'>\n"
          ]
        }
      ]
    },
    {
      "cell_type": "code",
      "source": [
        "x = 17.5\n",
        "y = 8.5\n",
        "z = x - y\n",
        "print(\"x : \",x,\" :: Type of x : \",type(x))\n",
        "print(\"y : \",y,\" :: Type of y : \",type(y))\n",
        "print(\"z : \",z,\" :: Type of z : \",type(z))"
      ],
      "metadata": {
        "colab": {
          "base_uri": "https://localhost:8080/"
        },
        "id": "3VM6aDICNxZ1",
        "outputId": "9395f334-7a3b-4ee5-d689-8e6313c867a5"
      },
      "execution_count": 8,
      "outputs": [
        {
          "output_type": "stream",
          "name": "stdout",
          "text": [
            "x :  17.5  :: Type of x :  <class 'float'>\n",
            "y :  8.5  :: Type of y :  <class 'float'>\n",
            "z :  9.0  :: Type of z :  <class 'float'>\n"
          ]
        }
      ]
    },
    {
      "cell_type": "code",
      "source": [
        "x = 5+3j\n",
        "y = 8 + 5j\n",
        "z = x + y\n",
        "print(\"x : \",x,\" :: Type of x : \",type(x))\n",
        "print(\"y : \",y,\" :: Type of y : \",type(y))\n",
        "print(\"z : \",z,\" :: Type of z : \",type(z))"
      ],
      "metadata": {
        "colab": {
          "base_uri": "https://localhost:8080/"
        },
        "id": "SqUBqFSJONAA",
        "outputId": "289d473a-fe77-43e2-8456-db66ead47969"
      },
      "execution_count": 11,
      "outputs": [
        {
          "output_type": "stream",
          "name": "stdout",
          "text": [
            "x :  (5+3j)  :: Type of x :  <class 'complex'>\n",
            "y :  (8+5j)  :: Type of y :  <class 'complex'>\n",
            "z :  (13+8j)  :: Type of z :  <class 'complex'>\n"
          ]
        }
      ]
    },
    {
      "cell_type": "code",
      "source": [
        "x = 5+3j\n",
        "y = 8 + 5j\n",
        "z = x - y\n",
        "print(\"x : \",x,\" :: Type of x : \",type(x))\n",
        "print(\"y : \",y,\" :: Type of y : \",type(y))\n",
        "print(\"z : \",z,\" :: Type of z : \",type(z))"
      ],
      "metadata": {
        "colab": {
          "base_uri": "https://localhost:8080/"
        },
        "id": "ZBCSJQf3OXjQ",
        "outputId": "5f21b71a-332d-48a1-f29b-cd32c580d391"
      },
      "execution_count": 12,
      "outputs": [
        {
          "output_type": "stream",
          "name": "stdout",
          "text": [
            "x :  (5+3j)  :: Type of x :  <class 'complex'>\n",
            "y :  (8+5j)  :: Type of y :  <class 'complex'>\n",
            "z :  (-3-2j)  :: Type of z :  <class 'complex'>\n"
          ]
        }
      ]
    },
    {
      "cell_type": "code",
      "source": [
        "x = 5+3j\n",
        "y = 8 + 5j\n",
        "z = x * y\n",
        "print(\"x : \",x,\" :: Type of x : \",type(x))\n",
        "print(\"y : \",y,\" :: Type of y : \",type(y))\n",
        "print(\"z : \",z,\" :: Type of z : \",type(z))"
      ],
      "metadata": {
        "colab": {
          "base_uri": "https://localhost:8080/"
        },
        "id": "_gOP_VnXOb8l",
        "outputId": "f7da27e1-966b-4765-eedf-e0d5417cd52f"
      },
      "execution_count": 13,
      "outputs": [
        {
          "output_type": "stream",
          "name": "stdout",
          "text": [
            "x :  (5+3j)  :: Type of x :  <class 'complex'>\n",
            "y :  (8+5j)  :: Type of y :  <class 'complex'>\n",
            "z :  (25+49j)  :: Type of z :  <class 'complex'>\n"
          ]
        }
      ]
    },
    {
      "cell_type": "code",
      "source": [
        "x = 5+3j\n",
        "y = 8 + 5j\n",
        "z = x / y\n",
        "print(\"x : \",x,\" :: Type of x : \",type(x))\n",
        "print(\"y : \",y,\" :: Type of y : \",type(y))\n",
        "print(\"z : \",z,\" :: Type of z : \",type(z))"
      ],
      "metadata": {
        "colab": {
          "base_uri": "https://localhost:8080/"
        },
        "id": "cwkQyj0ZO54o",
        "outputId": "95ad6d84-b2aa-4e34-8bfb-a7ba52cf6023"
      },
      "execution_count": 16,
      "outputs": [
        {
          "output_type": "stream",
          "name": "stdout",
          "text": [
            "x :  (5+3j)  :: Type of x :  <class 'complex'>\n",
            "y :  (8+5j)  :: Type of y :  <class 'complex'>\n",
            "z :  (0.6179775280898876-0.011235955056179775j)  :: Type of z :  <class 'complex'>\n"
          ]
        }
      ]
    },
    {
      "cell_type": "code",
      "source": [
        "x = 5\n",
        "y = 8 + 5j\n",
        "z = x + y\n",
        "print(\"x : \",x,\" :: Type of x : \",type(x))\n",
        "print(\"y : \",y,\" :: Type of y : \",type(y))\n",
        "print(\"z : \",z,\" :: Type of z : \",type(z))"
      ],
      "metadata": {
        "colab": {
          "base_uri": "https://localhost:8080/"
        },
        "id": "aDtfpQDSPIjm",
        "outputId": "529768e0-7e8d-4747-d108-a23fe6ab07b0"
      },
      "execution_count": 20,
      "outputs": [
        {
          "output_type": "stream",
          "name": "stdout",
          "text": [
            "x :  5  :: Type of x :  <class 'int'>\n",
            "y :  (8+5j)  :: Type of y :  <class 'complex'>\n",
            "z :  (13+5j)  :: Type of z :  <class 'complex'>\n"
          ]
        }
      ]
    },
    {
      "cell_type": "code",
      "source": [
        "x = 5-2j\n",
        "y = 3-5j\n",
        "z = x**y\n",
        "print(\"x : \",x,\" :: Type of x : \",type(x))\n",
        "print(\"y : \",y,\" :: Type of y : \",type(y))\n",
        "print(\"z : \",z,\" :: Type of z : \",type(z))"
      ],
      "metadata": {
        "colab": {
          "base_uri": "https://localhost:8080/"
        },
        "id": "c1enx_eWPWFK",
        "outputId": "1dee648d-e672-4b2f-b26b-046ac31810ef"
      },
      "execution_count": 22,
      "outputs": [
        {
          "output_type": "stream",
          "name": "stdout",
          "text": [
            "x :  (5-2j)  :: Type of x :  <class 'complex'>\n",
            "y :  (3-5j)  :: Type of y :  <class 'complex'>\n",
            "z :  (-23.087103232607348+3.1353795741870605j)  :: Type of z :  <class 'complex'>\n"
          ]
        }
      ]
    },
    {
      "cell_type": "code",
      "source": [
        "x = 5\n",
        "y = 2.3\n",
        "z = x**y\n",
        "\n",
        "print(\"x : \",x,\" :: Type of x : \",type(x))\n",
        "print(\"y : \",y,\" :: Type of y : \",type(y))\n",
        "print(\"z : \",z,\" :: Type of z : \",type(z))"
      ],
      "metadata": {
        "colab": {
          "base_uri": "https://localhost:8080/"
        },
        "id": "815MBMIDPvR7",
        "outputId": "91d58dc3-070b-4d65-ad54-3b56d331ac19"
      },
      "execution_count": 29,
      "outputs": [
        {
          "output_type": "stream",
          "name": "stdout",
          "text": [
            "x :  5  :: Type of x :  <class 'int'>\n",
            "y :  2.3  :: Type of y :  <class 'float'>\n",
            "z :  40.51641491731905  :: Type of z :  <class 'float'>\n"
          ]
        }
      ]
    },
    {
      "cell_type": "code",
      "source": [
        "x = 5.5\n",
        "y = 2\n",
        "z = x**y\n",
        "\n",
        "print(\"x : \",x,\" :: Type of x : \",type(x))\n",
        "print(\"y : \",y,\" :: Type of y : \",type(y))\n",
        "print(\"z : \",z,\" :: Type of z : \",type(z))"
      ],
      "metadata": {
        "colab": {
          "base_uri": "https://localhost:8080/"
        },
        "id": "TWtkvyhdRy9k",
        "outputId": "a9556806-bb93-49f2-d726-ad1599372b0d"
      },
      "execution_count": 30,
      "outputs": [
        {
          "output_type": "stream",
          "name": "stdout",
          "text": [
            "x :  5.5  :: Type of x :  <class 'float'>\n",
            "y :  2  :: Type of y :  <class 'int'>\n",
            "z :  30.25  :: Type of z :  <class 'float'>\n"
          ]
        }
      ]
    },
    {
      "cell_type": "code",
      "source": [
        "x = 5\n",
        "y = 2+3j\n",
        "z = x**y\n",
        "\n",
        "print(\"x : \",x,\" :: Type of x : \",type(x))\n",
        "print(\"y : \",y,\" :: Type of y : \",type(y))\n",
        "print(\"z : \",z,\" :: Type of z : \",type(z))"
      ],
      "metadata": {
        "colab": {
          "base_uri": "https://localhost:8080/"
        },
        "id": "SsUmsSmtR4-V",
        "outputId": "2c81de11-f5ff-44f6-e8f1-77a580e87be5"
      },
      "execution_count": 33,
      "outputs": [
        {
          "output_type": "stream",
          "name": "stdout",
          "text": [
            "x :  5  :: Type of x :  <class 'int'>\n",
            "y :  (2+3j)  :: Type of y :  <class 'complex'>\n",
            "z :  (2.891632197429399-24.832206169303394j)  :: Type of z :  <class 'complex'>\n"
          ]
        }
      ]
    },
    {
      "cell_type": "code",
      "source": [
        "x = 5-3j\n",
        "y = 2\n",
        "z = x**y\n",
        "\n",
        "print(\"x : \",x,\" :: Type of x : \",type(x))\n",
        "print(\"y : \",y,\" :: Type of y : \",type(y))\n",
        "print(\"z : \",z,\" :: Type of z : \",type(z))"
      ],
      "metadata": {
        "colab": {
          "base_uri": "https://localhost:8080/"
        },
        "id": "8C2eUHmySGog",
        "outputId": "dfa13ee5-c5ae-4331-88c7-ffbcf1e3537a"
      },
      "execution_count": 34,
      "outputs": [
        {
          "output_type": "stream",
          "name": "stdout",
          "text": [
            "x :  (5-3j)  :: Type of x :  <class 'complex'>\n",
            "y :  2  :: Type of y :  <class 'int'>\n",
            "z :  (16-30j)  :: Type of z :  <class 'complex'>\n"
          ]
        }
      ]
    },
    {
      "cell_type": "code",
      "source": [
        "x = 5\n",
        "y = 2+4j\n",
        "z = x**y\n",
        "\n",
        "print(\"x : \",x,\" :: Type of x : \",type(x))\n",
        "print(\"y : \",y,\" :: Type of y : \",type(y))\n",
        "print(\"z : \",z,\" :: Type of z : \",type(z))"
      ],
      "metadata": {
        "colab": {
          "base_uri": "https://localhost:8080/"
        },
        "id": "R7if3opPSMW9",
        "outputId": "1561467f-daee-4ce3-b85f-3adc32a4485c"
      },
      "execution_count": 35,
      "outputs": [
        {
          "output_type": "stream",
          "name": "stdout",
          "text": [
            "x :  5  :: Type of x :  <class 'int'>\n",
            "y :  (2+4j)  :: Type of y :  <class 'complex'>\n",
            "z :  (24.70195964872899+3.848790655850832j)  :: Type of z :  <class 'complex'>\n"
          ]
        }
      ]
    },
    {
      "cell_type": "markdown",
      "source": [
        "# Strings"
      ],
      "metadata": {
        "id": "S-lMQYkv3ek7"
      }
    },
    {
      "cell_type": "code",
      "source": [
        "x = \"She sells C - shells on the seashore\"\n",
        "print(\"x : \",x,\" :: Type of x : \",type(x))\n"
      ],
      "metadata": {
        "colab": {
          "base_uri": "https://localhost:8080/"
        },
        "id": "H70C3lm1bv_n",
        "outputId": "74f3c973-add5-475f-ef74-ee87883aa8bd"
      },
      "execution_count": 36,
      "outputs": [
        {
          "output_type": "stream",
          "name": "stdout",
          "text": [
            "x :  She sells C - shells on the seashore  :: Type of x :  <class 'str'>\n"
          ]
        }
      ]
    },
    {
      "cell_type": "code",
      "source": [
        "x = '2 B or NOT 2 B, that is the ?'\n",
        "print(\"x : \",x,\" :: Type of x : \",type(x))\n"
      ],
      "metadata": {
        "colab": {
          "base_uri": "https://localhost:8080/"
        },
        "id": "WsbVdxKBcBNo",
        "outputId": "ef05fdfc-9a32-48e6-99a6-b8576512a35d"
      },
      "execution_count": 37,
      "outputs": [
        {
          "output_type": "stream",
          "name": "stdout",
          "text": [
            "x :  2 B or NOT 2 B, that is the ?  :: Type of x :  <class 'str'>\n"
          ]
        }
      ]
    },
    {
      "cell_type": "code",
      "source": [
        "x = \"\"\"A man should keep his little brain attic stocked \n",
        "with all the furniture that he is likely to use, \n",
        "and the rest he can put away in the lumber-room \n",
        "of his library where he can get it if he wants\"\"\"\n",
        "\n",
        "print(\"x : \",x,\" :: Type of x : \",type(x))\n"
      ],
      "metadata": {
        "colab": {
          "base_uri": "https://localhost:8080/"
        },
        "id": "L2XnG6yocN_P",
        "outputId": "099fa999-3f7e-43e6-dcc7-050f50b499df"
      },
      "execution_count": 38,
      "outputs": [
        {
          "output_type": "stream",
          "name": "stdout",
          "text": [
            "x :  A man should keep his little brain attic stocked \n",
            "with all the furniture that he is likely to use, \n",
            "and the rest he can put away in the lumber-room \n",
            "of his library where he can get it if he wants  :: Type of x :  <class 'str'>\n"
          ]
        }
      ]
    },
    {
      "cell_type": "code",
      "source": [
        "x = '''It is my belief, Watson, founded upon my experience, \n",
        "that the lowest and vilest alleys in London do not present\n",
        "a more dreadful record of sin than does the smiling \n",
        "and beautiful countryside.'''\n",
        "\n",
        "print(\"x : \",x,\" :: Type of x : \",type(x))"
      ],
      "metadata": {
        "colab": {
          "base_uri": "https://localhost:8080/"
        },
        "id": "2V1Z-NefcqxZ",
        "outputId": "3ca91c43-cfa6-4f2c-b544-e7ff4add7663"
      },
      "execution_count": 39,
      "outputs": [
        {
          "output_type": "stream",
          "name": "stdout",
          "text": [
            "x :  It is my belief, Watson, founded upon my experience, \n",
            "that the lowest and vilest alleys in London do not present\n",
            "a more dreadful record of sin than does the smiling \n",
            "and beautiful countryside.  :: Type of x :  <class 'str'>\n"
          ]
        }
      ]
    },
    {
      "cell_type": "code",
      "source": [
        "x = \"Them that ask no question, never told a lie\"\n",
        "print(x[5])"
      ],
      "metadata": {
        "colab": {
          "base_uri": "https://localhost:8080/"
        },
        "id": "x6FYwUFgc4Jq",
        "outputId": "8a668dc0-0571-45d0-d00f-c9d0408eb0d0"
      },
      "execution_count": 40,
      "outputs": [
        {
          "output_type": "stream",
          "name": "stdout",
          "text": [
            "t\n"
          ]
        }
      ]
    },
    {
      "cell_type": "code",
      "source": [
        "x = \"Questions\"\n",
        "\n",
        "for i in x:\n",
        "  print(i)"
      ],
      "metadata": {
        "colab": {
          "base_uri": "https://localhost:8080/"
        },
        "id": "ZJiV4ZPNdDs6",
        "outputId": "688218dd-e7c4-4663-c283-b4a67b5ea83c"
      },
      "execution_count": 43,
      "outputs": [
        {
          "output_type": "stream",
          "name": "stdout",
          "text": [
            "Q\n",
            "u\n",
            "e\n",
            "s\n",
            "t\n",
            "i\n",
            "o\n",
            "n\n",
            "s\n"
          ]
        }
      ]
    },
    {
      "cell_type": "code",
      "source": [
        "x = \"This is not really a big string\"\n",
        "print(len(x))"
      ],
      "metadata": {
        "colab": {
          "base_uri": "https://localhost:8080/"
        },
        "id": "h8CoNQU6dQfR",
        "outputId": "2b7858aa-f37b-461e-8ddf-a13267cf6352"
      },
      "execution_count": 45,
      "outputs": [
        {
          "output_type": "stream",
          "name": "stdout",
          "text": [
            "31\n"
          ]
        }
      ]
    },
    {
      "cell_type": "code",
      "source": [
        "star = \"Rats live on no evil star\"\n",
        "if \"Rats\" in star:\n",
        "  print(\"Rats in star\")"
      ],
      "metadata": {
        "colab": {
          "base_uri": "https://localhost:8080/"
        },
        "id": "O-kPmmOMde8W",
        "outputId": "4a1d959b-4bd6-423e-c6fb-1d9be1738d3f"
      },
      "execution_count": 46,
      "outputs": [
        {
          "output_type": "stream",
          "name": "stdout",
          "text": [
            "Rats in star\n"
          ]
        }
      ]
    },
    {
      "cell_type": "code",
      "source": [
        "star = \"Rats live on no evil star\"\n",
        "if \"rats\" not in star:\n",
        "  print(\"rats not in star\")"
      ],
      "metadata": {
        "colab": {
          "base_uri": "https://localhost:8080/"
        },
        "id": "UYN1h_gzd0cG",
        "outputId": "15f8b789-62b0-481a-8273-e5d6076959e6"
      },
      "execution_count": 48,
      "outputs": [
        {
          "output_type": "stream",
          "name": "stdout",
          "text": [
            "rats not in star\n"
          ]
        }
      ]
    },
    {
      "cell_type": "code",
      "source": [
        "star = \"Rats live on no evil star\"\n",
        "rats = star[5:9]\n",
        "print(star)\n",
        "print(rats)"
      ],
      "metadata": {
        "colab": {
          "base_uri": "https://localhost:8080/"
        },
        "id": "6vSrTYtoeB8_",
        "outputId": "81c0d978-1252-42ff-e720-ac8c8d3f7e3a"
      },
      "execution_count": 51,
      "outputs": [
        {
          "output_type": "stream",
          "name": "stdout",
          "text": [
            "Rats live on no evil star\n",
            "live\n"
          ]
        }
      ]
    },
    {
      "cell_type": "code",
      "source": [
        "star = \"Rats live on no evil star\"\n",
        "rats = star[:9]\n",
        "print(star)\n",
        "print(rats)"
      ],
      "metadata": {
        "colab": {
          "base_uri": "https://localhost:8080/"
        },
        "id": "tOe4hLwOeVmV",
        "outputId": "6bd532f7-1077-48de-dd96-af9d457d58c2"
      },
      "execution_count": 52,
      "outputs": [
        {
          "output_type": "stream",
          "name": "stdout",
          "text": [
            "Rats live on no evil star\n",
            "Rats live\n"
          ]
        }
      ]
    },
    {
      "cell_type": "code",
      "source": [
        "star = \"Rats live on no evil star\"\n",
        "rats = star[9:]\n",
        "print(star)\n",
        "print(rats)"
      ],
      "metadata": {
        "colab": {
          "base_uri": "https://localhost:8080/"
        },
        "id": "12DhblXTeYAi",
        "outputId": "22df6f89-72aa-4ab8-a6e6-f01dcd5e366b"
      },
      "execution_count": 53,
      "outputs": [
        {
          "output_type": "stream",
          "name": "stdout",
          "text": [
            "Rats live on no evil star\n",
            " on no evil star\n"
          ]
        }
      ]
    },
    {
      "cell_type": "code",
      "source": [
        "star = \"Rats live on no evil star\"\n",
        "rats = star[-9:-5]\n",
        "print(star)\n",
        "print(rats)"
      ],
      "metadata": {
        "colab": {
          "base_uri": "https://localhost:8080/"
        },
        "id": "0wRCyp3ZehEJ",
        "outputId": "0fb1a164-5c5d-443e-de28-e3cf82ff3ad5"
      },
      "execution_count": 54,
      "outputs": [
        {
          "output_type": "stream",
          "name": "stdout",
          "text": [
            "Rats live on no evil star\n",
            "evil\n"
          ]
        }
      ]
    },
    {
      "cell_type": "code",
      "source": [
        "x = \"No it is opposition\"\n",
        "y = \"She sells seashells on the seashore\"\n",
        "z = x+y\n",
        "print(z)"
      ],
      "metadata": {
        "colab": {
          "base_uri": "https://localhost:8080/"
        },
        "id": "bYZN7H6NeuNZ",
        "outputId": "0a028523-b4dd-49ed-9417-00b73555a9f3"
      },
      "execution_count": 55,
      "outputs": [
        {
          "output_type": "stream",
          "name": "stdout",
          "text": [
            "No it is oppositionShe sells seashells on the seashore\n"
          ]
        }
      ]
    }
  ]
}