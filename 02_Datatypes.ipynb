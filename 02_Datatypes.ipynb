{
  "nbformat": 4,
  "nbformat_minor": 0,
  "metadata": {
    "colab": {
      "name": "VAC24822_Datatypes.ipynb",
      "provenance": []
    },
    "kernelspec": {
      "name": "python3",
      "display_name": "Python 3"
    },
    "language_info": {
      "name": "python"
    }
  },
  "cells": [
    {
      "cell_type": "markdown",
      "source": [
        "#Data Types"
      ],
      "metadata": {
        "id": "ezwwqIjijCfK"
      }
    },
    {
      "cell_type": "code",
      "execution_count": 37,
      "metadata": {
        "colab": {
          "base_uri": "https://localhost:8080/"
        },
        "id": "djtYGOUgi0JC",
        "outputId": "2d03fb8f-982d-4d0b-f2e8-02827879412f"
      },
      "outputs": [
        {
          "output_type": "stream",
          "name": "stdout",
          "text": [
            "Value :  13 ::: Type :  <class 'int'>\n"
          ]
        }
      ],
      "source": [
        "x = 13\n",
        "print(\"Value : \",x,\"::: Type : \",type(x))\n"
      ]
    },
    {
      "cell_type": "code",
      "source": [
        "x = \"Thirteen\"\n",
        "print(\"Value : \",x,\"::: Type : \",type(x))\n"
      ],
      "metadata": {
        "colab": {
          "base_uri": "https://localhost:8080/"
        },
        "id": "0PME7W92khsw",
        "outputId": "f728afc7-80da-4d37-fa7c-b6c086253ef7"
      },
      "execution_count": 2,
      "outputs": [
        {
          "output_type": "stream",
          "name": "stdout",
          "text": [
            "Value :  Thirteen ::: Type :  <class 'str'>\n"
          ]
        }
      ]
    },
    {
      "cell_type": "code",
      "source": [
        "x = 1.3\n",
        "print(\"Value : \",x,\"::: Type : \",type(x))\n"
      ],
      "metadata": {
        "colab": {
          "base_uri": "https://localhost:8080/"
        },
        "id": "MuGQZ70bkm2u",
        "outputId": "9d67518e-b2d5-44ff-c090-1667f9ba6180"
      },
      "execution_count": 3,
      "outputs": [
        {
          "output_type": "stream",
          "name": "stdout",
          "text": [
            "Value :  1.3 ::: Type :  <class 'float'>\n"
          ]
        }
      ]
    },
    {
      "cell_type": "code",
      "source": [
        "x = '13'\n",
        "print(\"Value : \",x,\"::: Type : \",type(x))\n"
      ],
      "metadata": {
        "colab": {
          "base_uri": "https://localhost:8080/"
        },
        "id": "66yDGYKtkqVr",
        "outputId": "048d3eaa-537c-487e-bc19-560b8fcfeccf"
      },
      "execution_count": 5,
      "outputs": [
        {
          "output_type": "stream",
          "name": "stdout",
          "text": [
            "Value :  13 ::: Type :  <class 'str'>\n"
          ]
        }
      ]
    },
    {
      "cell_type": "code",
      "source": [
        "x = [13,\"13\",\"Thirteen\"]\n",
        "print(\"Value : \",x,\"::: Type : \",type(x))\n"
      ],
      "metadata": {
        "colab": {
          "base_uri": "https://localhost:8080/"
        },
        "id": "WQ14r956kx1o",
        "outputId": "4013428b-3eb5-4ea2-fe58-6cd9dbe44e11"
      },
      "execution_count": 6,
      "outputs": [
        {
          "output_type": "stream",
          "name": "stdout",
          "text": [
            "Value :  [13, '13', 'Thirteen'] ::: Type :  <class 'list'>\n"
          ]
        }
      ]
    },
    {
      "cell_type": "code",
      "source": [
        "x = (13,\"13\",\"Thirteen\")\n",
        "print(\"Value : \",x,\"::: Type : \",type(x))\n"
      ],
      "metadata": {
        "colab": {
          "base_uri": "https://localhost:8080/"
        },
        "id": "PPsv3nT2lPdD",
        "outputId": "89d87854-f984-4a0f-f6dc-3bf666fbeee4"
      },
      "execution_count": 7,
      "outputs": [
        {
          "output_type": "stream",
          "name": "stdout",
          "text": [
            "Value :  (13, '13', 'Thirteen') ::: Type :  <class 'tuple'>\n"
          ]
        }
      ]
    },
    {
      "cell_type": "code",
      "source": [
        "x = {13,\"13\",\"Thirteen\"}\n",
        "print(\"Value : \",x,\"::: Type : \",type(x))\n"
      ],
      "metadata": {
        "colab": {
          "base_uri": "https://localhost:8080/"
        },
        "id": "rvwvhhvOlUov",
        "outputId": "01d81e54-eee5-4dd8-ccd7-b95575c9185c"
      },
      "execution_count": 8,
      "outputs": [
        {
          "output_type": "stream",
          "name": "stdout",
          "text": [
            "Value :  {'13', 13, 'Thirteen'} ::: Type :  <class 'set'>\n"
          ]
        }
      ]
    },
    {
      "cell_type": "code",
      "source": [
        "x = {\"Thirteen\":\"13\",\"13\":\"Thirteen\"}\n",
        "print(\"Value : \",x,\"::: Type : \",type(x))\n"
      ],
      "metadata": {
        "colab": {
          "base_uri": "https://localhost:8080/"
        },
        "id": "JmsFswoYlaZj",
        "outputId": "b550a7eb-4ff4-44c3-8171-e11309c0bfed"
      },
      "execution_count": 9,
      "outputs": [
        {
          "output_type": "stream",
          "name": "stdout",
          "text": [
            "Value :  {'Thirteen': '13', '13': 'Thirteen'} ::: Type :  <class 'dict'>\n"
          ]
        }
      ]
    },
    {
      "cell_type": "code",
      "source": [
        "x = range(13)\n",
        "print(\"Value : \",x,\"::: Type : \",type(x))\n"
      ],
      "metadata": {
        "colab": {
          "base_uri": "https://localhost:8080/"
        },
        "id": "QR7QG7YslxLv",
        "outputId": "ec4ed259-bc4c-4ec1-c532-df97d43d4a07"
      },
      "execution_count": 10,
      "outputs": [
        {
          "output_type": "stream",
          "name": "stdout",
          "text": [
            "Value :  range(0, 13) ::: Type :  <class 'range'>\n"
          ]
        }
      ]
    },
    {
      "cell_type": "code",
      "source": [
        "x = True\n",
        "print(\"Value : \",x,\"::: Type : \",type(x))\n"
      ],
      "metadata": {
        "colab": {
          "base_uri": "https://localhost:8080/"
        },
        "id": "-_BOuC-FniR6",
        "outputId": "92253ce3-5ce4-4f99-9f90-454c43435115"
      },
      "execution_count": 21,
      "outputs": [
        {
          "output_type": "stream",
          "name": "stdout",
          "text": [
            "Value :  True ::: Type :  <class 'bool'>\n"
          ]
        }
      ]
    },
    {
      "cell_type": "code",
      "source": [
        "x = frozenset({13,\"13\",\"Thirteen\"})\n",
        "print(\"Value : \",x,\"::: Type : \",type(x))\n"
      ],
      "metadata": {
        "colab": {
          "base_uri": "https://localhost:8080/"
        },
        "id": "7UuG-vBRmnBC",
        "outputId": "f4828f21-f7ea-4805-fe14-e796508aacc6"
      },
      "execution_count": 20,
      "outputs": [
        {
          "output_type": "stream",
          "name": "stdout",
          "text": [
            "Value :  frozenset({'13', 13, 'Thirteen'}) ::: Type :  <class 'frozenset'>\n"
          ]
        }
      ]
    },
    {
      "cell_type": "code",
      "source": [
        "x = b\"Thirteen\"\n",
        "print(\"Value : \",x,\"::: Type : \",type(x))\n"
      ],
      "metadata": {
        "colab": {
          "base_uri": "https://localhost:8080/"
        },
        "id": "6qG23Z1rowXJ",
        "outputId": "4f2d1005-735d-4dfa-9c07-73e60e4c5f0e"
      },
      "execution_count": 22,
      "outputs": [
        {
          "output_type": "stream",
          "name": "stdout",
          "text": [
            "Value :  b'Thirteen' ::: Type :  <class 'bytes'>\n"
          ]
        }
      ]
    },
    {
      "cell_type": "code",
      "source": [
        "x = bytes(b'Thirteen')\n",
        "print(\"Value : \",x,\"::: Type : \",type(x))\n"
      ],
      "metadata": {
        "colab": {
          "base_uri": "https://localhost:8080/"
        },
        "id": "Bw0Ypko5o49l",
        "outputId": "ae9af33a-d12f-4ea8-8fcf-54d8f7ee1980"
      },
      "execution_count": 28,
      "outputs": [
        {
          "output_type": "stream",
          "name": "stdout",
          "text": [
            "Value :  b'Thirteen' ::: Type :  <class 'bytes'>\n"
          ]
        }
      ]
    },
    {
      "cell_type": "code",
      "source": [
        "x = bytearray(13)\n",
        "print(\"Value : \",x,\"::: Type : \",type(x))\n"
      ],
      "metadata": {
        "colab": {
          "base_uri": "https://localhost:8080/"
        },
        "id": "DQZk3tQlpTNW",
        "outputId": "053c4583-6eb8-438e-96c4-e021724ae76a"
      },
      "execution_count": 32,
      "outputs": [
        {
          "output_type": "stream",
          "name": "stdout",
          "text": [
            "Value :  bytearray(b'\\x00\\x00\\x00\\x00\\x00\\x00\\x00\\x00\\x00\\x00\\x00\\x00\\x00') ::: Type :  <class 'bytearray'>\n"
          ]
        }
      ]
    },
    {
      "cell_type": "code",
      "source": [
        "x = memoryview(bytes(13))\n",
        "print(\"Value : \",x,\"::: Type : \",type(x))\n"
      ],
      "metadata": {
        "colab": {
          "base_uri": "https://localhost:8080/"
        },
        "id": "RtpzuSc5pitf",
        "outputId": "acff7bed-78e9-486f-ce17-e642d526419a"
      },
      "execution_count": 33,
      "outputs": [
        {
          "output_type": "stream",
          "name": "stdout",
          "text": [
            "Value :  <memory at 0x7fc1d7708ae0> ::: Type :  <class 'memoryview'>\n"
          ]
        }
      ]
    },
    {
      "cell_type": "code",
      "source": [
        "x = str(\"Rats live on no evil star\")\n",
        "y = int(42)\n",
        "z = float(33.54)\n",
        "a = list((2,\"be\",\"or\",\"not\",\"to\",\"B\"))\n",
        "print(x)\n",
        "print(y)\n",
        "print(z)\n",
        "print(a)\n"
      ],
      "metadata": {
        "colab": {
          "base_uri": "https://localhost:8080/"
        },
        "id": "4Bd89FfD_u1J",
        "outputId": "7aa6ed6e-b2dd-4cb3-8028-3eb15247ffcf"
      },
      "execution_count": 2,
      "outputs": [
        {
          "output_type": "stream",
          "name": "stdout",
          "text": [
            "Rats live on no evil star\n",
            "42\n",
            "33.54\n",
            "[2, 'be', 'or', 'not', 'to', 'B']\n"
          ]
        }
      ]
    },
    {
      "cell_type": "code",
      "source": [
        "a = 534\n",
        "b = 23.55\n",
        "c = 3-3j\n",
        "print(c,\" :: \",type(c))\n"
      ],
      "metadata": {
        "colab": {
          "base_uri": "https://localhost:8080/"
        },
        "id": "AtOPHMiABuWp",
        "outputId": "20380b29-7b1c-4a18-c819-b699589941a9"
      },
      "execution_count": 3,
      "outputs": [
        {
          "output_type": "stream",
          "name": "stdout",
          "text": [
            "(3-3j)  ::  <class 'complex'>\n"
          ]
        }
      ]
    },
    {
      "cell_type": "code",
      "source": [
        "x = 5\n",
        "y = 5.6\n",
        "z = 6-3j\n",
        "\n",
        "a = float(x)\n",
        "b = int(y)\n",
        "c = complex(x)\n",
        "print(\"a : \",a,\" :: \",type(a))\n",
        "print(\"b : \",b,\" :: \",type(b))\n",
        "print(\"c : \",c,\" :: \",type(c))\n"
      ],
      "metadata": {
        "colab": {
          "base_uri": "https://localhost:8080/"
        },
        "id": "ll16FdiVC0HX",
        "outputId": "32310b05-1c63-4ef1-a743-68da5e306e97"
      },
      "execution_count": 4,
      "outputs": [
        {
          "output_type": "stream",
          "name": "stdout",
          "text": [
            "a :  5.0  ::  <class 'float'>\n",
            "b :  5  ::  <class 'int'>\n",
            "c :  (5+0j)  ::  <class 'complex'>\n"
          ]
        }
      ]
    }
  ]
}